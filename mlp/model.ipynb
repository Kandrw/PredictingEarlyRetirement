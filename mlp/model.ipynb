{
 "cells": [
  {
   "cell_type": "code",
   "execution_count": null,
   "metadata": {
    "vscode": {
     "languageId": "plaintext"
    }
   },
   "outputs": [],
   "source": [
    "import pandas as pd\n",
    "import numpy as np\n",
    "from category_encoders import CatBoostEncoder\n",
    "from sklearn.model_selection import train_test_split, GridSearchCV\n",
    "from sklearn.ensemble import RandomForestClassifier\n",
    "from catboost import CatBoostClassifier\n",
    "import lightgbm as lgb\n",
    "from xgboost import XGBClassifier\n",
    "from sklearn.tree import DecisionTreeClassifier\n",
    "from sklearn.metrics import f1_score, roc_auc_score, precision_score, recall_score, classification_report\n",
    "import joblib\n",
    "import shap"
   ]
  },
  {
   "cell_type": "code",
   "execution_count": null,
   "metadata": {
    "vscode": {
     "languageId": "plaintext"
    }
   },
   "outputs": [],
   "source": [
    "# Функция для загрузки и обработки данных\n",
    "def load_and_prepare_data(filename='processed_data.csv', target='erly_pnsn_flg'):\n",
    "    df = pd.read_csv(filename, encoding='utf-8')\n",
    "    X = df.drop(columns=[target])\n",
    "    y = df[target]\n",
    "    return train_test_split(X, y, test_size=0.2, random_state=42)"
   ]
  },
  {
   "cell_type": "code",
   "execution_count": null,
   "metadata": {
    "vscode": {
     "languageId": "plaintext"
    }
   },
   "outputs": [],
   "source": [
    "# Функция для оценки модели\n",
    "def evaluate_model(y_test, y_pred, y_pred_proba, model_name):\n",
    "    f1 = f1_score(y_test, y_pred)\n",
    "    roc_auc = roc_auc_score(y_test, y_pred_proba)\n",
    "    gini = 2 * roc_auc - 1\n",
    "    precision = precision_score(y_test, y_pred)\n",
    "    recall = recall_score(y_test, y_pred)\n",
    "\n",
    "    print(f\"\\n--- {model_name} ---\")\n",
    "    print(f\"F1: {f1:.2f}\")\n",
    "    print(f\"ROC AUC: {roc_auc:.2f}\")\n",
    "    print(f\"Gini: {gini:.2f}\")\n",
    "    print(f\"Precision: {precision:.2f}\")\n",
    "    print(f\"Recall: {recall:.2f}\")\n",
    "    print(\"\\nClassification Report:\")\n",
    "    print(classification_report(y_test, y_pred))"
   ]
  },
  {
   "cell_type": "code",
   "execution_count": null,
   "metadata": {
    "vscode": {
     "languageId": "plaintext"
    }
   },
   "outputs": [],
   "source": [
    "# Загрузка и разделение данных\n",
    "X_train, X_test, y_train, y_test = load_and_prepare_data()\n",
    "\n",
    "# Категориальные и числовые признаки\n",
    "categorical_columns = ['location', 'addrss_type', 'prvs_npf', 'brth_plc', 'okato', \"gndr\", \"lk\", 'accnt_bgn_date', 'pstl_code', 'cprtn_prd_d', 'prsnt_age', 'pnsn_age']\n",
    "X_train_catboost = X_train.copy()\n",
    "X_test_catboost = X_test.copy()\n",
    "\n",
    "# Преобразование категориальных данных для CatBoost\n",
    "for col in categorical_columns:\n",
    "    X_train_catboost[col] = X_train_catboost[col].astype(str)\n",
    "    X_test_catboost[col] = X_test_catboost[col].astype(str)"
   ]
  },
  {
   "cell_type": "code",
   "execution_count": null,
   "metadata": {
    "vscode": {
     "languageId": "plaintext"
    }
   },
   "outputs": [],
   "source": [
    "# Кодирование категориальных признаков для других моделей\n",
    "encoder = CatBoostEncoder(cols=categorical_columns)\n",
    "X_train_encoded = encoder.fit_transform(X_train, y_train)\n",
    "X_test_encoded = encoder.transform(X_test)\n",
    "\n",
    "# Обучение и сохранение моделей\n",
    "models = {}"
   ]
  },
  {
   "cell_type": "code",
   "execution_count": null,
   "metadata": {
    "vscode": {
     "languageId": "plaintext"
    }
   },
   "outputs": [],
   "source": [
    "# 1. CatBoost\n",
    "model_catboost = CatBoostClassifier(iterations=100, learning_rate=0.1, depth=3, cat_features=categorical_columns, loss_function='Logloss', verbose=False)\n",
    "model_catboost.fit(X_train_catboost, y_train)\n",
    "y_pred_catboost = model_catboost.predict(X_test_catboost)\n",
    "y_pred_proba_catboost = model_catboost.predict_proba(X_test_catboost)[:, 1]\n",
    "evaluate_model(y_test, y_pred_catboost, y_pred_proba_catboost, \"CatBoost\")\n",
    "models['CatBoost'] = model_catboost"
   ]
  },
  {
   "cell_type": "code",
   "execution_count": null,
   "metadata": {
    "vscode": {
     "languageId": "plaintext"
    }
   },
   "outputs": [],
   "source": [
    "# 2. LightGBM\n",
    "model_lgbm = lgb.LGBMClassifier(n_estimators=200, learning_rate=0.1, max_depth=6)\n",
    "model_lgbm.fit(X_train_encoded, y_train)\n",
    "y_pred_lgbm = model_lgbm.predict(X_test_encoded)\n",
    "y_pred_proba_lgbm = model_lgbm.predict_proba(X_test_encoded)[:, 1]\n",
    "evaluate_model(y_test, y_pred_lgbm, y_pred_proba_lgbm, \"LightGBM\")\n",
    "models['LightGBM'] = model_lgbm"
   ]
  },
  {
   "cell_type": "code",
   "execution_count": null,
   "metadata": {
    "vscode": {
     "languageId": "plaintext"
    }
   },
   "outputs": [],
   "source": [
    "# 3. XGBoost\n",
    "model_xgb = XGBClassifier(n_estimators=200, learning_rate=0.1, max_depth=6, use_label_encoder=False, eval_metric='logloss')\n",
    "model_xgb.fit(X_train_encoded, y_train)\n",
    "y_pred_xgb = model_xgb.predict(X_test_encoded)\n",
    "y_pred_proba_xgb = model_xgb.predict_proba(X_test_encoded)[:, 1]\n",
    "evaluate_model(y_test, y_pred_xgb, y_pred_proba_xgb, \"XGBoost\")\n",
    "models['XGBoost'] = model_xgb"
   ]
  },
  {
   "cell_type": "code",
   "execution_count": null,
   "metadata": {
    "vscode": {
     "languageId": "plaintext"
    }
   },
   "outputs": [],
   "source": [
    "# 4. Decision Tree\n",
    "model_tree = DecisionTreeClassifier(max_depth=6, random_state=42)\n",
    "model_tree.fit(X_train_encoded, y_train)\n",
    "y_pred_tree = model_tree.predict(X_test_encoded)\n",
    "y_pred_proba_tree = model_tree.predict_proba(X_test_encoded)[:, 1]\n",
    "evaluate_model(y_test, y_pred_tree, y_pred_proba_tree, \"Decision Tree\")\n",
    "models['DecisionTree'] = model_tree\n",
    "\n",
    "# Сохранение всех моделей\n",
    "for model_name, model in models.items():\n",
    "    joblib.dump(model, f\"{model_name}.joblib\")\n",
    "    print(f\"{model_name} сохранена в файл {model_name}.joblib\")"
   ]
  },
  {
   "cell_type": "code",
   "execution_count": null,
   "metadata": {
    "vscode": {
     "languageId": "plaintext"
    }
   },
   "outputs": [],
   "source": [
    "# Анализ SHAP для CatBoost\n",
    "explainer = shap.TreeExplainer(model_catboost)\n",
    "shap_values = explainer.shap_values(X_test_catboost)\n",
    "\n",
    "# Визуализация важности признаков\n",
    "shap.summary_plot(shap_values, X_test_catboost, plot_type=\"bar\")  # Bar-график\n",
    "shap.summary_plot(shap_values, X_test_catboost)  # График важности признаков"
   ]
  }
 ],
 "metadata": {
  "language_info": {
   "name": "python"
  }
 },
 "nbformat": 4,
 "nbformat_minor": 2
}
